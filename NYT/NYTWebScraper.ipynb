{
 "cells": [
  {
   "cell_type": "markdown",
   "metadata": {},
   "source": [
    "### Importing libraries"
   ]
  },
  {
   "cell_type": "code",
   "execution_count": 1,
   "metadata": {},
   "outputs": [],
   "source": [
    "from bs4 import BeautifulSoup\n",
    "import pandas as pd\n",
    "import requests"
   ]
  },
  {
   "cell_type": "markdown",
   "metadata": {},
   "source": [
    "### Using BeautifulSoup class for the html parser "
   ]
  },
  {
   "cell_type": "code",
   "execution_count": 6,
   "metadata": {},
   "outputs": [],
   "source": [
    "response = requests.get(\"https://www.nytimes.com\")\n",
    "soup = BeautifulSoup(response.content,\"html.parser\")"
   ]
  },
  {
   "cell_type": "markdown",
   "metadata": {},
   "source": [
    "### Fetching attributes"
   ]
  },
  {
   "cell_type": "code",
   "execution_count": 16,
   "metadata": {},
   "outputs": [
    {
     "name": "stdout",
     "output_type": "stream",
     "text": [
      "['Listen to ‘The Daily’', 'In the ‘DealBook’ Newsletter', 'The Book Review Podcast', 'Top U.S. Military Official Apologizes for Role in Trump Photo', 'Federal Arrests Show No Sign That Antifa Plotted Protests', 'For the U.S. Policing Crisis, Hard Lessons From Other Countries', 'Business Updates: Stocks Fall Sharply as Virus Cases Tick Up', 'Economics, Dominated by White Men, Is Roiled by Black Lives Matter', 'Sobering Jobs Outlook: ‘We’re Expecting a Long Haul’', 'Known Cases in Africa Have Doubled in 18 Days', 'As Coronavirus Infections Climb, Washington Moves On to Other Business', 'Covid-19 Patient Gets Double Lung Transplant, Offering Hope for Others', 'New York’s Protests Don’t Have a Leader. They Have Many.', 'Why Are So Many N.Y.P.D. Officers Refusing to Wear Masks at Protests?', 'Drawing on Decades of Activism, Karen Bass Leads Democrats’ Policing Overhaul', 'Joe Biden, Emissary of Grief', 'Biden Readies Attack on Facebook’s Speech Policies', 'G.O.P. Platform, Rolled Over From 2016, Condemns the ‘Current President’', 'One Bar. Twelve Weeks. Seventeen Lives in Lockdown.', 'The Scandal of the Predatory City', 'Senator Grassley, Don’t Back Down', 'Why Does Trump Lie?', 'The Civil Rights Act of 2020', 'Trump Trembles: Mitt’s on the Move', 'Inequalities Existed in New York Long Before The Pandemic', 'Tom Cotton’s Whitewashing', 'The Longest Lockdown', 'When It Works to ‘Defund the Police’', 'Why Isn’t the Stock Market Reading the Room?', 'The Floyd Protests Show That Twitter Is Real Life', 'Jimmy Fallon Is Sorry. But What Does That Mean?', 'Broadway in Trying Times: Join Us for Conversation and Song', 'Scouring the South Bronx for an Income-Producing Home'] 33\n",
      "['/2020/06/11/podcasts/the-daily/georgia-general-election.html', '/2020/06/11/business/dealbook/grubhub-uber-just-eat.html', '/2020/06/05/books/review/podcast-a-o-scott-wallace-stegner-sunny-days-david-kamp.html', '/2020/06/11/us/george-floyd-protests.html', '/2020/06/11/us/antifa-protests-george-floyd.html', '/2020/06/11/world/police-brutality-protests.html', '/2020/06/11/business/stock-market-tracker-coronavirus.html', '/2020/06/10/business/economy/white-economists-black-lives-matter.html', '/2020/06/11/business/economy/unemployment-claims-coronavirus.html', '/2020/06/11/world/coronavirus-live-updates.html', '/2020/06/10/us/politics/coronavirus-washington-trump.html', '/2020/06/11/health/coronavirus-lung-transplant.html', '/2020/06/11/nyregion/nyc-george-floyd-protests.html', '/2020/06/11/nyregion/nypd-face-masks-nyc-protests.html', '/2020/06/10/us/politics/karen-bass.html', '/2020/06/11/us/politics/joe-biden-funeral-speech.html', '/2020/06/11/technology/biden-facebook-misinformation.html', '/2020/06/11/us/politics/republican-platform.html', '/2020/06/11/business/coronavirus-california-lockdown-small-business.html', '/2020/06/11/opinion/coronavirus-cities-property-taxes.html', '/2020/06/10/opinion/trump-inspectors-general-grassley.html', '/2020/06/11/opinion/trump-lies.html', '/2020/06/10/opinion/police-brutality-protests-legislation.html', '/2020/06/10/opinion/trump-romney-murkowski.html', '/interactive/2020/06/11/multimedia/coronavirus-new-york-inequality.html', '/2020/06/10/opinion/tom-cotton-oped-nyt.html', '/2020/06/11/opinion/kashmir-lockdown-india.html', '/2020/06/10/opinion/defund-police-floyd-protests.html', '/2020/06/09/opinion/stock-market-coronavirus.html', '/2020/06/10/opinion/twitter-protest-politics.html', '/2020/06/11/arts/television/jimmy-fallon.html', '/2020/06/10/theater/offstage-broadway-new-york-times.html', '/interactive/2020/06/11/realestate/11hunt-holmes.html'] 33\n",
      "['Georgia’s election meltdown.', 'Did Washington get in Uber’s way?', 'A.O. Scott on the American novelist Wallace Stegner.', 'Gen. Mark A. Milley, the chairman of the Joint Chiefs of Staff, said that his presence “created a perception of the military involved in domestic politics.”Federal authorities had attacked peaceful protesters so that the president could hold up a Bible in front of St. John’s Church. Here’s the latest.', 'Despite claims by President Trump and Attorney General William P. Barr, there is scant evidence that loosely organized anti-fascists are significant players in the protests.', 'Those who want to remake a police model that has set off unrest and despair would do well to look at the experiences of Asia, Africa and Europe.', 'The S&P 500 was on track for its sharpest daily decline in more than a month. Here’s the latest.', 'The editor of a top academic journal is facing calls to resign after criticizing protesters as “flat earthers” for wanting to defund the police.', 'More than 1.5 million sought state unemployment benefits last week as layoffs spread to more job categories even as businesses reopened.', 'Cases in Africa have doubled in recent weeks, rising to more than 200,000, the W.H.O. said.A variety of companies across the country have begun requiring customers and workers to sign liability waivers pledging not to sue if they become infected.Joe Biden unveiled an eight-part plan for reopening the economy and faulted President Trump for his handling of the crisis. Here’s the latest.', 'New cases are rising in almost half of the states. But in the capital, restless lawmakers and White House officials appear ready to focus on other subjects.', 'The operation is believed to be the first of its kind in the U.S. The patient, a woman in her 20s, had been healthy, but the coronavirus devastated her lungs.', 'They’re young, charismatic and drawing crowds of thousands around the city.', 'Though the city is recording hundreds of new coronavirus cases each week and some officers have died, many are not heeding instructions to cover their faces.', 'The California congresswoman, who was the first black woman speaker of a state legislature, has navigated internal divides to produce the expansive bill.', 'Mr. Biden’s entire political career has been marked by personal loss. His allies say that makes him uniquely capable of leading a nation grappling with death.', 'The campaign will urge its supporters to push the social media giant to strengthen its rules against misinformation and harmful comments.', 'The party’s 2020 platform includes more than three dozen unflattering references to those in power at the White House.', 'Following an Oakland tavern and its staff — from the tattooed bartender to the undocumented cleaner — as they weather the fallout of the coronavirus.', 'Local governments should not shore up their budgets by preying on the very people Covid-19 hit the hardest.', 'Congress is still owed answers about President Trump’s dismissal of inspectors general.', 'None', 'None', 'None', 'None', 'None', 'None', 'None', 'None', 'None', 'The “Tonight Show” host was forced to publicly reckon with a blackface clip from his past and his own role in systemic racism.', 'The debut installment of “Offstage,” a New York Times streaming series about the theater world on pause, explores the season that was and wasn’t.', 'With a budget of $800,000 for a two-family house or $1 million for a three-family, a couple went in search of a place in move-in condition. Here’s what they found.'] 33\n"
     ]
    }
   ],
   "source": [
    "heading=[] #List to store the heading of the article\n",
    "link=[] #List to store the article's href\n",
    "summary=[] #List to store the summary of the article\n",
    "\n",
    "a = soup.find_all('article')\n",
    "\n",
    "for i in a:\n",
    "    head=i.find('h2')\n",
    "    if(head!=None):\n",
    "        if(head.text!=\" \"):\n",
    "            heading.append(head.text)\n",
    "            link1=i.find('a')\n",
    "            if(link1!=None):\n",
    "                link.append(link1['href'])\n",
    "            ptag=i.find('p')\n",
    "            if(ptag!=None):\n",
    "                summary.append(ptag.text)\n",
    "            elif(i.find('ul')!=None):\n",
    "                summary.append(i.find('ul').text)\n",
    "            else:\n",
    "                summary.append(\"None\")    \n",
    "print(heading,len(heading))\n",
    "print(link,len(link))\n",
    "print(summary,len(summary))"
   ]
  },
  {
   "cell_type": "markdown",
   "metadata": {},
   "source": [
    "### Storing attributes in a csv"
   ]
  },
  {
   "cell_type": "code",
   "execution_count": 17,
   "metadata": {},
   "outputs": [],
   "source": [
    "df = pd.DataFrame({'Heading':heading,'Summary':summary,'Link':link}) \n",
    "df.to_csv('nyt.csv', index=False, encoding='utf-8')"
   ]
  },
  {
   "cell_type": "code",
   "execution_count": null,
   "metadata": {},
   "outputs": [],
   "source": []
  }
 ],
 "metadata": {
  "kernelspec": {
   "display_name": "Python 3",
   "language": "python",
   "name": "python3"
  },
  "language_info": {
   "codemirror_mode": {
    "name": "ipython",
    "version": 3
   },
   "file_extension": ".py",
   "mimetype": "text/x-python",
   "name": "python",
   "nbconvert_exporter": "python",
   "pygments_lexer": "ipython3",
   "version": "3.7.6"
  }
 },
 "nbformat": 4,
 "nbformat_minor": 4
}
