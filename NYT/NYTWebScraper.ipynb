{
 "cells": [
  {
   "cell_type": "markdown",
   "metadata": {},
   "source": [
    "### Importing libraries"
   ]
  },
  {
   "cell_type": "code",
   "execution_count": 1,
   "metadata": {},
   "outputs": [],
   "source": [
    "# coding: utf-8\n",
    "from bs4 import BeautifulSoup\n",
    "import pandas as pd\n",
    "import requests\n",
    "from datetime import datetime"
   ]
  },
  {
   "cell_type": "markdown",
   "metadata": {},
   "source": [
    "### API for get requests"
   ]
  },
  {
   "cell_type": "code",
   "execution_count": 2,
   "metadata": {},
   "outputs": [
    {
     "name": "stdout",
     "output_type": "stream",
     "text": [
      "https://www.nytimes.com/section/world\n",
      "https://www.nytimes.com/section/technology\n",
      "https://www.nytimes.com/section/arts\n",
      "https://www.nytimes.com/section/sports\n",
      "https://www.nytimes.com/section/business\n"
     ]
    }
   ],
   "source": [
    "categoryList=['world','technology','arts','sports','business']\n",
    "responseList=[]\n",
    "for i in categoryList:\n",
    "    link=\"https://www.nytimes.com/section/\"+i\n",
    "    print(link)\n",
    "    responseList.append(requests.get(link))"
   ]
  },
  {
   "cell_type": "markdown",
   "metadata": {},
   "source": [
    "### Fetching attributes"
   ]
  },
  {
   "cell_type": "code",
   "execution_count": 3,
   "metadata": {},
   "outputs": [
    {
     "name": "stdout",
     "output_type": "stream",
     "text": [
      "Coronavirus Live Updates: Drug Proven to Reduce Virus Deaths, Scientists Say 85\n",
      "/2020/06/15/world/middleeast/syria-economy-assad-makhlouf.html 85\n",
      "Borders and businesses are reopening, even as politicians and scientists warn that new waves of coronavirus infection might be on the way. 85\n",
      "2020-06-15 85\n"
     ]
    }
   ],
   "source": [
    "heading=[] #List to store the heading of the article\n",
    "link=[] #List to store the article's href\n",
    "summary=[] #List to store the summary of the article\n",
    "category=[]#List to store the category of the article\n",
    "timestampList=[]\n",
    "todaysDate = datetime.today().strftime('%Y-%m-%d')\n",
    "\n",
    "for x,response in enumerate(responseList):\n",
    "    soup = BeautifulSoup(response.content,\"html.parser\") #Using BeautifulSoup class for the html parser \n",
    "    a = soup.find_all('article')\n",
    "    for i in a:\n",
    "        head=i.find('h2')\n",
    "        if(head!=None):\n",
    "            if(head.text!=\" \"):\n",
    "                heading.append(head.text)\n",
    "                if(x==2):\n",
    "                    category.append('Entertainment')\n",
    "                else:\n",
    "                    category.append(categoryList[x].capitalize())\n",
    "                link1=i.find('a')\n",
    "                if(link1!=None):\n",
    "                    link.append(link1['href'])\n",
    "                    if(not link1['href'][1:5].isnumeric()):\n",
    "                        timestampList.append(todaysDate)\n",
    "                    elif('/'in link1['href'][1:11]):\n",
    "                        temp=link1['href'][1:11].replace('/','-')\n",
    "                        timestampList.append(temp)\n",
    "                ptag=i.find('p')\n",
    "                if(ptag!=None):\n",
    "                    summary.append(ptag.text)\n",
    "                elif(i.find('ul')!=None):\n",
    "                    summary.append(i.find('ul').text)\n",
    "                else:\n",
    "                    summary.append(\"None\")    \n",
    "print(heading[0],len(heading))\n",
    "print(link[5],len(link))\n",
    "print(summary[8],len(summary))\n",
    "print(timestampList[5],len(timestampList))"
   ]
  },
  {
   "cell_type": "markdown",
   "metadata": {},
   "source": [
    "### Time column added"
   ]
  },
  {
   "cell_type": "code",
   "execution_count": 4,
   "metadata": {
    "scrolled": false
   },
   "outputs": [
    {
     "name": "stdout",
     "output_type": "stream",
     "text": [
      "2020-06-15,Monday 85\n"
     ]
    }
   ],
   "source": [
    "for i in range(len(timestampList)):\n",
    "    day=datetime.strptime(timestampList[i], '%Y-%m-%d').strftime('%A')\n",
    "    timestampList[i]=(timestampList[i]+\",\"+day)        \n",
    "print(timestampList[7],len(timestampList))"
   ]
  },
  {
   "cell_type": "markdown",
   "metadata": {},
   "source": [
    "### Cleaning unsupported variables"
   ]
  },
  {
   "cell_type": "code",
   "execution_count": 5,
   "metadata": {},
   "outputs": [],
   "source": [
    "def replaceFunc(j):\n",
    "    for i in range(len(j)):\n",
    "        if('‘' in j[i]):\n",
    "            j[i]=j[i].replace('‘',\"'\")\n",
    "        if('“'in j[i]):\n",
    "            j[i]=j[i].replace('“',\"'\")\n",
    "        if('’' in j[i]):\n",
    "            j[i]=j[i].replace('’',\"'\")\n",
    "        if('”'in j[i]):\n",
    "            j[i]=j[i].replace('”',\"'\")\n",
    "        if('—'in j[i]):\n",
    "            j[i]=j[i].replace('—','-')\n",
    "    \n",
    "x = [heading, summary]\n",
    "for i in x:\n",
    "    replaceFunc(i)"
   ]
  },
  {
   "cell_type": "markdown",
   "metadata": {},
   "source": [
    "### Storing attributes in a csv"
   ]
  },
  {
   "cell_type": "code",
   "execution_count": 6,
   "metadata": {},
   "outputs": [
    {
     "name": "stdout",
     "output_type": "stream",
     "text": [
      "Dataset/nyt_2020-06-16.csv\n"
     ]
    }
   ],
   "source": [
    "filename='Dataset/nyt_'+todaysDate+'.csv'\n",
    "print(filename)\n",
    "df = pd.DataFrame({'Heading':heading,'Summary':summary,'Category':category,'Link':link,'Timestamp':timestampList}) \n",
    "df.to_csv(filename, index=False, encoding='utf-8')"
   ]
  },
  {
   "cell_type": "code",
   "execution_count": null,
   "metadata": {},
   "outputs": [],
   "source": []
  }
 ],
 "metadata": {
  "kernelspec": {
   "display_name": "Python 3",
   "language": "python",
   "name": "python3"
  },
  "language_info": {
   "codemirror_mode": {
    "name": "ipython",
    "version": 3
   },
   "file_extension": ".py",
   "mimetype": "text/x-python",
   "name": "python",
   "nbconvert_exporter": "python",
   "pygments_lexer": "ipython3",
   "version": "3.7.6"
  }
 },
 "nbformat": 4,
 "nbformat_minor": 4
}
