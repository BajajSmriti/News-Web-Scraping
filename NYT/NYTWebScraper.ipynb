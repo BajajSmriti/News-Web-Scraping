{
 "cells": [
  {
   "cell_type": "markdown",
   "metadata": {},
   "source": [
    "### Importing libraries"
   ]
  },
  {
   "cell_type": "code",
   "execution_count": 1,
   "metadata": {},
   "outputs": [],
   "source": [
    "# coding: utf-8\n",
    "from bs4 import BeautifulSoup\n",
    "import pandas as pd\n",
    "import requests"
   ]
  },
  {
   "cell_type": "markdown",
   "metadata": {},
   "source": [
    "### API for get requests"
   ]
  },
  {
   "cell_type": "code",
   "execution_count": 2,
   "metadata": {},
   "outputs": [
    {
     "name": "stdout",
     "output_type": "stream",
     "text": [
      "https://www.nytimes.com/section/world\n",
      "https://www.nytimes.com/section/technology\n",
      "https://www.nytimes.com/section/arts\n",
      "https://www.nytimes.com/section/sports\n",
      "https://www.nytimes.com/section/business\n"
     ]
    }
   ],
   "source": [
    "categoryList=['world','technology','arts','sports','business']\n",
    "responseList=[]\n",
    "for i in categoryList:\n",
    "    link=\"https://www.nytimes.com/section/\"+i\n",
    "    print(link)\n",
    "    responseList.append(requests.get(link))"
   ]
  },
  {
   "cell_type": "markdown",
   "metadata": {},
   "source": [
    "### Fetching attributes"
   ]
  },
  {
   "cell_type": "code",
   "execution_count": 3,
   "metadata": {},
   "outputs": [
    {
     "name": "stdout",
     "output_type": "stream",
     "text": [
      "0\n",
      "1\n",
      "2\n",
      "3\n",
      "4\n",
      "Coronavirus Live Updates: China Locks Down Part of Beijing to Contain New Outbreak 85\n",
      "/2020/06/14/world/europe/putin-interview-united-states.html 85\n",
      "Bristol was built with money from the slave trader Edward Colston. Tearing down his statue has reopened a painful reckoning with the city’s racist past. 85\n"
     ]
    }
   ],
   "source": [
    "heading=[] #List to store the heading of the article\n",
    "link=[] #List to store the article's href\n",
    "summary=[] #List to store the summary of the article\n",
    "category=[]#List to store the category of the article\n",
    "\n",
    "for x,response in enumerate(responseList):\n",
    "    print(x)\n",
    "    soup = BeautifulSoup(response.content,\"html.parser\") #Using BeautifulSoup class for the html parser \n",
    "    a = soup.find_all('article')\n",
    "    for i in a:\n",
    "        head=i.find('h2')\n",
    "        if(head!=None):\n",
    "            if(head.text!=\" \"):\n",
    "                heading.append(head.text)\n",
    "                if(x==2):\n",
    "                    category.append('Entertainment')\n",
    "                else:\n",
    "                    category.append(categoryList[x].capitalize())\n",
    "                link1=i.find('a')\n",
    "                if(link1!=None):\n",
    "                    link.append(link1['href'])\n",
    "                ptag=i.find('p')\n",
    "                if(ptag!=None):\n",
    "                    summary.append(ptag.text)\n",
    "                elif(i.find('ul')!=None):\n",
    "                    summary.append(i.find('ul').text)\n",
    "                else:\n",
    "                    summary.append(\"None\")    \n",
    "print(heading[0],len(heading))\n",
    "print(link[5],len(link))\n",
    "print(summary[8],len(summary))"
   ]
  },
  {
   "cell_type": "markdown",
   "metadata": {},
   "source": [
    "### Time column added"
   ]
  },
  {
   "cell_type": "code",
   "execution_count": 4,
   "metadata": {},
   "outputs": [
    {
     "name": "stdout",
     "output_type": "stream",
     "text": [
      "2020-06-15 21:06:20.584012 Monday\n"
     ]
    }
   ],
   "source": [
    "from datetime import datetime\n",
    "import calendar\n",
    "Timestamp=[]\n",
    "for i in heading:\n",
    "    time=str(datetime.today())\n",
    "    date=datetime.today().strftime('%Y-%m-%d')\n",
    "    day=datetime.strptime(date, '%Y-%m-%d').weekday() \n",
    "    Timestamp.append(time+\" \"+calendar.day_name[day])\n",
    "print(Timestamp[0])"
   ]
  },
  {
   "cell_type": "code",
   "execution_count": 5,
   "metadata": {},
   "outputs": [],
   "source": [
    "for i in range(len(heading)):\n",
    "    if('‘' in heading[i]):\n",
    "        heading[i]=heading[i].replace('‘',\"'\")\n",
    "    if('“'in heading[i]):\n",
    "        heading[i]=heading[i].replace('“',\"'\")\n",
    "    if('’' in heading[i]):\n",
    "        heading[i]=heading[i].replace('’',\"'\")\n",
    "    if('”'in heading[i]):\n",
    "        heading[i]=heading[i].replace('”',\"'\")\n",
    "\n",
    "for i in range(len(summary)):\n",
    "    if('‘' in summary[i]):\n",
    "        summary[i]=summary[i].replace('‘',\"'\")\n",
    "    if('“'in summary[i]):\n",
    "        summary[i]=summary[i].replace('“',\"'\")\n",
    "    if('’' in summary[i]):\n",
    "        summary[i]=summary[i].replace('’',\"'\")\n",
    "    if('”'in summary[i]):\n",
    "        summary[i]=summary[i].replace('”',\"'\")\n"
   ]
  },
  {
   "cell_type": "markdown",
   "metadata": {},
   "source": [
    "### Storing attributes in a csv"
   ]
  },
  {
   "cell_type": "code",
   "execution_count": 6,
   "metadata": {},
   "outputs": [
    {
     "name": "stdout",
     "output_type": "stream",
     "text": [
      "Dataset/nyt_2020-06-15.csv\n"
     ]
    }
   ],
   "source": [
    "todaysDate = datetime.today().strftime('%Y-%m-%d')\n",
    "filename='Dataset/nyt_'+todaysDate+'.csv'\n",
    "print(filename)\n",
    "df = pd.DataFrame({'Heading':heading,'Summary':summary,'Category':category,'Link':link,'Timestamp':Timestamp}) \n",
    "df.to_csv(filename, index=False, encoding='utf-8')"
   ]
  },
  {
   "cell_type": "code",
   "execution_count": null,
   "metadata": {},
   "outputs": [],
   "source": []
  }
 ],
 "metadata": {
  "kernelspec": {
   "display_name": "Python 3",
   "language": "python",
   "name": "python3"
  },
  "language_info": {
   "codemirror_mode": {
    "name": "ipython",
    "version": 3
   },
   "file_extension": ".py",
   "mimetype": "text/x-python",
   "name": "python",
   "nbconvert_exporter": "python",
   "pygments_lexer": "ipython3",
   "version": "3.7.6"
  }
 },
 "nbformat": 4,
 "nbformat_minor": 4
}
